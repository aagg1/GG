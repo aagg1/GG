{
 "cells": [
  {
   "cell_type": "code",
   "execution_count": 3,
   "metadata": {},
   "outputs": [
    {
     "name": "stdout",
     "output_type": "stream",
     "text": [
      "Successfully trained model with an accuracy of 1.00\n"
     ]
    }
   ],
   "source": [
    "# model.py\n",
    "from sklearn import datasets\n",
    "from sklearn.model_selection import train_test_split\n",
    "from sklearn.neighbors import KNeighborsClassifier\n",
    "from sklearn.metrics import accuracy_score\n",
    "#from sklearn.externals import joblib\n",
    "#import sklearn.external.joblib as extjoblib\n",
    "import joblib\n",
    "import numpy as np\n",
    "\n",
    "\n",
    "def train(X,y):\n",
    "\n",
    "    # train test split\n",
    "    X_train, X_test, y_train, y_test = train_test_split(X, y, test_size=0.3)\n",
    "\n",
    "    knn = KNeighborsClassifier(n_neighbors=1)\n",
    "\n",
    "    # fit the model\n",
    "    knn.fit(X_train, y_train)\n",
    "    preds = knn.predict(X_test)\n",
    "    acc = accuracy_score(y_test, preds)\n",
    "    print(f'Successfully trained model with an accuracy of {acc:.2f}')\n",
    "\n",
    "    return knn\n",
    "\n",
    "if __name__ == '__main__':\n",
    "\n",
    "    iris_data = datasets.load_iris()\n",
    "    X = iris_data['data']\n",
    "    y = iris_data['target']\n",
    "\n",
    "    labels = {0 : 'iris-setosa',\n",
    "              1 : 'iris-versicolor',\n",
    "              2 : 'iris-virginica'}\n",
    "\n",
    "    # rename integer labels to actual flower names\n",
    "    y = np.vectorize(labels.__getitem__)(y)\n",
    "\n",
    "    mdl = train(X,y)\n",
    "\n",
    "    # serialize model\n",
    "    joblib.dump(mdl, 'iris.mdl')"
   ]
  },
  {
   "cell_type": "code",
   "execution_count": null,
   "metadata": {},
   "outputs": [],
   "source": []
  }
 ],
 "metadata": {
  "kernelspec": {
   "display_name": "Python 3",
   "language": "python",
   "name": "python3"
  },
  "language_info": {
   "codemirror_mode": {
    "name": "ipython",
    "version": 3
   },
   "file_extension": ".py",
   "mimetype": "text/x-python",
   "name": "python",
   "nbconvert_exporter": "python",
   "pygments_lexer": "ipython3",
   "version": "3.8.3"
  }
 },
 "nbformat": 4,
 "nbformat_minor": 4
}
