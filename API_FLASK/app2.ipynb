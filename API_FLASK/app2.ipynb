{
 "cells": [
  {
   "cell_type": "code",
   "execution_count": null,
   "metadata": {},
   "outputs": [],
   "source": [
    "pip install Flask_RESTful"
   ]
  },
  {
   "cell_type": "code",
   "execution_count": null,
   "metadata": {},
   "outputs": [
    {
     "name": "stdout",
     "output_type": "stream",
     "text": [
      " * Serving Flask app \"__main__\" (lazy loading)\n",
      " * Environment: production\n",
      "   WARNING: This is a development server. Do not use it in a production deployment.\n",
      "   Use a production WSGI server instead.\n",
      " * Debug mode: off\n"
     ]
    },
    {
     "name": "stderr",
     "output_type": "stream",
     "text": [
      " * Running on http://127.0.0.1:1080/ (Press CTRL+C to quit)\n",
      "127.0.0.1 - - [18/Aug/2021 14:33:06] \"\u001b[37mPOST /predict HTTP/1.1\u001b[0m\" 200 -\n",
      "127.0.0.1 - - [18/Aug/2021 14:33:15] \"\u001b[37mPOST /predict HTTP/1.1\u001b[0m\" 200 -\n",
      "127.0.0.1 - - [18/Aug/2021 14:33:21] \"\u001b[37mPOST /predict HTTP/1.1\u001b[0m\" 200 -\n"
     ]
    }
   ],
   "source": [
    "from flask import Flask\n",
    "from flask_restful import Api, Resource, reqparse\n",
    "import joblib\n",
    "import numpy as np\n",
    "\n",
    "APP = Flask(__name__)\n",
    "API = Api(APP)\n",
    "\n",
    "IRIS_MODEL = joblib.load('iris.mdl')\n",
    "\n",
    "\n",
    "class Predict(Resource):\n",
    "\n",
    "    @staticmethod\n",
    "    def post():\n",
    "        parser = reqparse.RequestParser()\n",
    "        parser.add_argument('petal_length')\n",
    "        parser.add_argument('petal_width')\n",
    "        parser.add_argument('sepal_length')\n",
    "        parser.add_argument('sepal_width')\n",
    "\n",
    "        args = parser.parse_args()  # creates dict\n",
    "\n",
    "        X_new = np.fromiter(args.values(), dtype=float)  # convert input to array\n",
    "\n",
    "        out = {'Prediction': IRIS_MODEL.predict([X_new])[0]}\n",
    "\n",
    "        return out, 200\n",
    "\n",
    "\n",
    "API.add_resource(Predict, '/predict')\n",
    "\n",
    "if __name__ == '__main__':\n",
    "#    APP.run(debug=True, port='1080')\n",
    "    APP.run(port='1080')"
   ]
  },
  {
   "cell_type": "code",
   "execution_count": null,
   "metadata": {},
   "outputs": [],
   "source": []
  }
 ],
 "metadata": {
  "kernelspec": {
   "display_name": "Python 3",
   "language": "python",
   "name": "python3"
  },
  "language_info": {
   "codemirror_mode": {
    "name": "ipython",
    "version": 3
   },
   "file_extension": ".py",
   "mimetype": "text/x-python",
   "name": "python",
   "nbconvert_exporter": "python",
   "pygments_lexer": "ipython3",
   "version": "3.8.3"
  }
 },
 "nbformat": 4,
 "nbformat_minor": 4
}
